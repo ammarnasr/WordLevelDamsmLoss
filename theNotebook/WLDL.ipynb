{
  "nbformat": 4,
  "nbformat_minor": 0,
  "metadata": {
    "colab": {
      "name": "WLDL.ipynb",
      "provenance": [],
      "collapsed_sections": []
    },
    "kernelspec": {
      "display_name": "Python 3",
      "language": "python",
      "name": "python3"
    },
    "language_info": {
      "codemirror_mode": {
        "name": "ipython",
        "version": 3
      },
      "file_extension": ".py",
      "mimetype": "text/x-python",
      "name": "python",
      "nbconvert_exporter": "python",
      "pygments_lexer": "ipython3",
      "version": "3.7.4"
    },
    "accelerator": "GPU"
  },
  "cells": [
    {
      "cell_type": "code",
      "metadata": {
        "id": "py0za4kvKvSC",
        "colab_type": "code",
        "colab": {
          "base_uri": "https://localhost:8080/"
        },
        "outputId": "aec251ed-a908-45f6-92b1-3a24a26ca3b4"
      },
      "source": [
        "!nvidia-smi"
      ],
      "execution_count": 7,
      "outputs": [
        {
          "output_type": "stream",
          "text": [
            "Tue Aug 25 11:49:15 2020       \n",
            "+-----------------------------------------------------------------------------+\n",
            "| NVIDIA-SMI 450.57       Driver Version: 418.67       CUDA Version: 10.1     |\n",
            "|-------------------------------+----------------------+----------------------+\n",
            "| GPU  Name        Persistence-M| Bus-Id        Disp.A | Volatile Uncorr. ECC |\n",
            "| Fan  Temp  Perf  Pwr:Usage/Cap|         Memory-Usage | GPU-Util  Compute M. |\n",
            "|                               |                      |               MIG M. |\n",
            "|===============================+======================+======================|\n",
            "|   0  Tesla T4            Off  | 00000000:00:04.0 Off |                    0 |\n",
            "| N/A   54C    P8    10W /  70W |      0MiB / 15079MiB |      0%      Default |\n",
            "|                               |                      |                 ERR! |\n",
            "+-------------------------------+----------------------+----------------------+\n",
            "                                                                               \n",
            "+-----------------------------------------------------------------------------+\n",
            "| Processes:                                                                  |\n",
            "|  GPU   GI   CI        PID   Type   Process name                  GPU Memory |\n",
            "|        ID   ID                                                   Usage      |\n",
            "|=============================================================================|\n",
            "|  No running processes found                                                 |\n",
            "+-----------------------------------------------------------------------------+\n"
          ],
          "name": "stdout"
        }
      ]
    },
    {
      "cell_type": "code",
      "metadata": {
        "colab_type": "code",
        "id": "hGBy_mAZdt7B",
        "colab": {}
      },
      "source": [
        "import os\n",
        "os.chdir('/content')\n",
        "!rm -r sample_data\n",
        "!rm -r /content/AttnGAN/\n",
        "#clone repo AttnGAN\n",
        "!git clone https://github.com/taoxugit/AttnGAN.git\n",
        "\n",
        "#Dwonload files config.py, utils.py, datasets.py, pretrain_DAMSM.py\n",
        "!git clone https://github.com/ammarnasr/WordLevelDamsmLoss.git\n",
        "\n",
        "#Move Models text and image encoder to their /content/\n",
        "#!mv /content/CUB-Attn-GAN/theModel/text_encoder272.pth /content/\n",
        "#!mv /content/CUB-Attn-GAN/theModel/image_encoder272.pth /content/\n",
        "\n",
        "#Move code files to their Locations\n",
        "!mv /content/WordLevelDamsmLoss/theCode/bird.yml /content/AttnGAN/code/cfg/DAMSM/\n",
        "!mv /content/WordLevelDamsmLoss/theCode/config.py /content/AttnGAN/code/miscc/\n",
        "!mv /content/WordLevelDamsmLoss/theCode/utils.py /content/AttnGAN/code/miscc/\n",
        "!mv /content/WordLevelDamsmLoss/theCode/losses.py /content/AttnGAN/code/miscc/\n",
        "!mv /content/WordLevelDamsmLoss/theCode/pretrain_DAMSM.py /content/AttnGAN/code/\n",
        "!mv /content/WordLevelDamsmLoss/theCode/datasets.py /content/AttnGAN/code/\n",
        "\n",
        "#Remove the Repo\n",
        "!rm -r /content/WordLevelDamsmLoss/\n",
        "\n",
        "#Changing Working dirctory to data\n",
        "os.chdir('/content/AttnGAN/data/')\n",
        "#!wget --no-check-certificate 'https://docs.google.com/uc?export=download&id=1O_LtUP9sch09QH3s_EBAgLEctBQ5JBSJ' -O birds.zip\n",
        "!cp '/content/drive/My Drive/birds/birds.zip' '/content/AttnGAN/data/'\n",
        "!unzip -q birds.zip\n",
        "!rm birds.zip\n",
        "!rm -r __MACOSX/\n",
        "\n",
        "#Changing Working dirctory to birds\n",
        "os.chdir('/content/AttnGAN/data/birds/')\n",
        "#!wget --load-cookies /tmp/cookies.txt \"https://docs.google.com/uc?export=download&confirm=$(wget --quiet --save-cookies /tmp/cookies.txt --keep-session-cookies --no-check-certificate 'https://docs.google.com/uc?export=download&id=1hbzc_P1FuxMkcabkgn9ZKinBwW683j45' -O- | sed -rn 's/.*confirm=([0-9A-Za-z_]+).*/\\1\\n/p')&id=1hbzc_P1FuxMkcabkgn9ZKinBwW683j45\" -O CUB_200_2011.tgz && rm -rf /tmp/cookies.txt\n",
        "!cp '/content/drive/My Drive/cub/CUB_200_2011.tgz'  '/content/AttnGAN/data/birds'\n",
        "!tar zxf  CUB_200_2011.tgz\n",
        "!rm CUB_200_2011.tgz\n",
        "\n",
        "#Changing Working dirctory to code\n",
        "os.chdir('/content/AttnGAN/code/')\n",
        "print(os.getcwd())\n",
        "print(\"Check bird_AttnDCGAN2.pth (25.46M) for Sucess!\")\n",
        "print(\"---------------------------------------------------------------------\")\n",
        "print(\"---------------------------------------------------------------------\")\n",
        "\n",
        "#Download Pillow.rar (251.75K), , Extract it , and remove unnesscery files\n",
        "!wget --no-check-certificate 'https://docs.google.com/uc?export=download&id=1Wr3lQajG7m6Bi3rYFTJb6mwE_d8su111' -O Pillow.rar\n",
        "!unrar x  Pillow.rar\n",
        "!rm Pillow.rar\n",
        "\n",
        "#The command : \n",
        "!python pretrain_DAMSM.py --cfg cfg/DAMSM/bird.yml --gpu 0\n"
      ],
      "execution_count": null,
      "outputs": []
    },
    {
      "cell_type": "code",
      "metadata": {
        "id": "zLvFLUgIMGWM",
        "colab_type": "code",
        "colab": {}
      },
      "source": [
        "os.chdir('/content')\n",
        "!git clone https://github.com/ammarnasr/WordLevelDamsmLoss.git\n",
        "\n",
        "!mv /content/WordLevelDamsmLoss/theCode/bird.yml /content/AttnGAN/code/cfg/DAMSM/\n",
        "!mv /content/WordLevelDamsmLoss/theCode/config.py /content/AttnGAN/code/miscc/\n",
        "!mv /content/WordLevelDamsmLoss/theCode/utils.py /content/AttnGAN/code/miscc/\n",
        "!mv /content/WordLevelDamsmLoss/theCode/losses.py /content/AttnGAN/code/miscc/\n",
        "!mv /content/WordLevelDamsmLoss/theCode/pretrain_DAMSM.py /content/AttnGAN/code/\n",
        "!mv /content/WordLevelDamsmLoss/theCode/datasets.py /content/AttnGAN/code/\n",
        "\n",
        "!rm -r /content/WordLevelDamsmLoss/\n"
      ],
      "execution_count": null,
      "outputs": []
    },
    {
      "cell_type": "code",
      "metadata": {
        "id": "PpoVzI_nNucc",
        "colab_type": "code",
        "colab": {}
      },
      "source": [
        "os.chdir('/content/AttnGAN/code/') \n",
        "!python pretrain_DAMSM.py --cfg cfg/DAMSM/bird.yml --gpu 0\n"
      ],
      "execution_count": null,
      "outputs": []
    }
  ]
}